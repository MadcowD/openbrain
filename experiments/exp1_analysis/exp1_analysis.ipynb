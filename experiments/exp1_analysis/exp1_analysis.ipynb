{
 "cells": [
  {
   "cell_type": "code",
   "execution_count": 1,
   "metadata": {
    "collapsed": false
   },
   "outputs": [],
   "source": [
    "import matplotlib.pyplot as plt\n",
    "import csv\n",
    "import os\n",
    "import re\n",
    "import numpy as np\n",
    "from scipy.stats import pearsonr\n",
    "from pandas import ewma\n",
    "%matplotlib inline"
   ]
  },
  {
   "cell_type": "code",
   "execution_count": 2,
   "metadata": {
    "collapsed": false
   },
   "outputs": [
    {
     "name": "stdout",
     "output_type": "stream",
     "text": [
      "pearson (0.38862066041565735, 1.9015390871420372e-16)\n"
     ]
    },
    {
     "data": {
      "image/png": "[encoded data removed]",
      "text/plain": [
       "<matplotlib.figure.Figure at 0x10b99f4a8>"
      ]
     },
     "metadata": {},
     "output_type": "display_data"
    }
   ],
   "source": [
    "def nameToIndex(name, header):\n",
    "    return header.index(name)\n",
    "\n",
    "def readExperiment(filename):\n",
    "    with open(filename, 'r') as csvfile:\n",
    "        reader = csv.reader(csvfile)\n",
    "        rows = []\n",
    "        for row in reader:\n",
    "            rows.append(row)\n",
    "        Critic_Q_mean_index = nameToIndex('Critic_Q_mean',rows[0])\n",
    "        Critic_Q_mean_values = []\n",
    "        subcriticIndex = nameToIndex('subcritic_layer0/subcritic_n0/Qtarget/Identity_2:0_mean', rows[0])\n",
    "        subcritic_mean_values = []\n",
    "        for row in rows[1:]:\n",
    "            Critic_Q_mean_values.append(float(row[Critic_Q_mean_index]))\n",
    "            subcritic_mean_values.append(float(row[subcriticIndex]))\n",
    "        criticDeriv = np.gradient(Critic_Q_mean_values)\n",
    "        subcriticDeriv = np.gradient(subcritic_mean_values)\n",
    "        plt.plot(criticDeriv, label=\"criticDeriv\")\n",
    "        plt.plot(subcriticDeriv, label=\"subcriticDeriv\")\n",
    "        plt.legend()\n",
    "        print('pearson',pearsonr(criticDeriv,subcriticDeriv))\n",
    "#         deriv = np.gradient(Critic_Q_mean_values)\n",
    "#         smoothedDeriv = ewma(deriv, com=100)\n",
    "#         plt.plot(Critic_Q_mean_values, label=int(re.findall(r'\\d+', filename)[0]))\n",
    "#         plt.plot(deriv, label='deriv ' + re.findall(r'\\d+', filename)[0])\n",
    "#         plt.plot(smoothedDeriv, label='smoothedDeriv ' + re.findall(r'\\d+', filename)[0])\n",
    "            \n",
    "        plt.legend()\n",
    "\n",
    "def loadExperimentsOutput(outputDir='../output',episodesToAnalyze=[]):\n",
    "    files = [outputDir + '/' + filename for filename in sorted(os.listdir(outputDir), key=lambda filename: int(re.findall(r'\\d+', filename)[0]))]\n",
    "    filteredFiles = files\n",
    "    if episodesToAnalyze:\n",
    "        filteredFiles = filter(lambda filename: int(re.findall(r'\\d+', filename)[0]) in episodesToAnalyze, files)\n",
    "    for file in filteredFiles:\n",
    "        readExperiment(file)\n",
    "loadExperimentsOutput(episodesToAnalyze=[70])"
   ]
  },
  {
   "cell_type": "markdown",
   "metadata": {},
   "source": [
    "# Writeup\n",
    "\n",
    "We use the [Pearson correlation coefficient](https://statistics.laerd.com/statistical-guides/pearson-correlation-coefficient-statistical-guide.php) to determine the similarity between the derivatives of the global Q function critic and the local approximations we use a-la DDPG.\n",
    "\n",
    "The motivation of the paper states that we wish to approximate this global Q using less expensive local Q approximator functions. We can ignore the magnitude and actual values of the two functions as we only wish to examine the updates, i.e. derivatives of these functions. Thus, we attempt to **find a positive correlation between $\\frac{\\partial Q_{global}}{\\partial t}$ and $\\frac{\\partial Q_{local}}{\\partial t}$.**\n",
    "\n",
    "[According to statistics.laerd.com](https://statistics.laerd.com/statistical-guides/pearson-correlation-coefficient-statistical-guide.php), this table can be used to roughly understand the importance of correlations between two functions.\n",
    "![pearson table](pearson_table.png)\n",
    "\n",
    "In the mountain car experiment, we find a Pearson r-value of 0.38862066041565735. Thus, we can infer that there is a \"weak correlation\" between the derivatives of the global and local function.\n",
    "\n",
    "These numbers are not necessarily significant without smoothing. As the local approximations are inherently stochastic methods, we must apply some smoothing techniques to obtain reasonable results."
   ]
  },
  {
   "cell_type": "code",
   "execution_count": 3,
   "metadata": {
    "collapsed": true
   },
   "outputs": [],
   "source": []
  }
 ],
 "metadata": {
  "kernelspec": {
   "display_name": "Python 3",
   "language": "python",
   "name": "python3"
  },
  "language_info": {
   "codemirror_mode": {
    "name": "ipython",
    "version": 3
   },
   "file_extension": ".py",
   "mimetype": "text/x-python",
   "name": "python",
   "nbconvert_exporter": "python",
   "pygments_lexer": "ipython3",
   "version": "3.5.2"
  }
 },
 "nbformat": 4,
 "nbformat_minor": 1
}
